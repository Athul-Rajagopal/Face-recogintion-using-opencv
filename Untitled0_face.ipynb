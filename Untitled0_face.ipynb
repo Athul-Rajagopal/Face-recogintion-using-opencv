{
  "nbformat": 4,
  "nbformat_minor": 0,
  "metadata": {
    "colab": {
      "provenance": [],
      "mount_file_id": "1kAlA_wOkLpYI-zWPtAn_QvvdOhH_XZAZ",
      "authorship_tag": "ABX9TyP7iK8UxqYNGY4n7xUt7e1U",
      "include_colab_link": true
    },
    "kernelspec": {
      "name": "python3",
      "display_name": "Python 3"
    },
    "language_info": {
      "name": "python"
    },
    "accelerator": "GPU"
  },
  "cells": [
    {
      "cell_type": "markdown",
      "metadata": {
        "id": "view-in-github",
        "colab_type": "text"
      },
      "source": [
        "<a href=\"https://colab.research.google.com/github/Athul-Rajagopal/Face-recogintion-using-opencv/blob/master/Untitled0_face.ipynb\" target=\"_parent\"><img src=\"https://colab.research.google.com/assets/colab-badge.svg\" alt=\"Open In Colab\"/></a>"
      ]
    },
    {
      "cell_type": "code",
      "metadata": {
        "id": "9deFnZCEf6t3"
      },
      "source": [
        "import pathlib\n",
        "import numpy as np\n",
        "from glob import glob\n",
        "import matplotlib.pyplot as plt\n",
        "import cv2"
      ],
      "execution_count": null,
      "outputs": []
    },
    {
      "cell_type": "code",
      "metadata": {
        "id": "V89uHKWigYV0"
      },
      "source": [
        "path=pathlib.Path(r'/content/drive/MyDrive/Colab Notebooks/CNN/colab_assignment')"
      ],
      "execution_count": null,
      "outputs": []
    },
    {
      "cell_type": "code",
      "metadata": {
        "id": "LHw-Obd5gmU6"
      },
      "source": [
        "adrash_li=list(path.glob('adrash/*.jpg'))\n",
        "athul_li=list(path.glob('athul/*.jpg'))\n",
        "roshan_li=list(path.glob('roshan/*.jpg'))\n",
        "sarath_li=list(path.glob('sarath/*.jpg'))\n",
        "subin_li=list(path.glob('subin/*.jpg'))\n"
      ],
      "execution_count": null,
      "outputs": []
    },
    {
      "cell_type": "code",
      "metadata": {
        "colab": {
          "base_uri": "https://localhost:8080/"
        },
        "id": "ZBZ2EMvuvcwQ",
        "outputId": "841e2f83-5666-48a9-bb54-da75a2036fb7"
      },
      "source": [
        "len(adrash_li), len(athul_li), len(roshan_li), len(sarath_li), len(subin_li)"
      ],
      "execution_count": null,
      "outputs": [
        {
          "output_type": "execute_result",
          "data": {
            "text/plain": [
              "(100, 130, 100, 126, 125)"
            ]
          },
          "metadata": {
            "tags": []
          },
          "execution_count": 4
        }
      ]
    },
    {
      "cell_type": "code",
      "metadata": {
        "id": "dYBeeTuwhPdX"
      },
      "source": [
        "di={'adrash':adrash_li,'athul':athul_li,'roshan':roshan_li,'sarath':sarath_li,'subin':subin_li}\n",
        "lab={'adrash':0,'athul':1,'roshan':2,'sarath':3,'subin':4}"
      ],
      "execution_count": null,
      "outputs": []
    },
    {
      "cell_type": "code",
      "metadata": {
        "id": "X5gQH_4AiT4F"
      },
      "source": [
        "x=[]\n",
        "y=[]\n",
        "\n",
        "for names in di:\n",
        "    name_li=di[names]\n",
        "    for image_path in name_li:\n",
        "        img=cv2.imread(str(image_path))\n",
        "        img=cv2.resize(img,(200,200))\n",
        "        img=img/255\n",
        "        x.append(img)\n",
        "        y.append(lab[names])\n"
      ],
      "execution_count": null,
      "outputs": []
    },
    {
      "cell_type": "code",
      "metadata": {
        "colab": {
          "base_uri": "https://localhost:8080/"
        },
        "id": "Rr0Y8yosjIpG",
        "outputId": "b71c25e6-2dc8-4d1c-bb15-7679aa82061f"
      },
      "source": [
        "x=np.array(x)\n",
        "y=np.array(y)\n",
        "x.shape, y.shape"
      ],
      "execution_count": null,
      "outputs": [
        {
          "output_type": "execute_result",
          "data": {
            "text/plain": [
              "((581, 200, 200, 3), (581,))"
            ]
          },
          "metadata": {
            "tags": []
          },
          "execution_count": 7
        }
      ]
    },
    {
      "cell_type": "code",
      "metadata": {
        "id": "nQRdDAU8kCYm"
      },
      "source": [
        "import sklearn\n",
        "from sklearn.model_selection import train_test_split"
      ],
      "execution_count": null,
      "outputs": []
    },
    {
      "cell_type": "code",
      "metadata": {
        "colab": {
          "base_uri": "https://localhost:8080/"
        },
        "id": "91QA9EKqkNCW",
        "outputId": "68e501d0-9c37-4678-fe61-c98d0bc81737"
      },
      "source": [
        "xtrain,xtest,ytrain,ytest=train_test_split(x,y,test_size=.28,random_state=1)\n",
        "xtrain.shape, ytrain.shape, xtest.shape, ytest.shape"
      ],
      "execution_count": null,
      "outputs": [
        {
          "output_type": "execute_result",
          "data": {
            "text/plain": [
              "((418, 200, 200, 3), (418,), (163, 200, 200, 3), (163,))"
            ]
          },
          "metadata": {
            "tags": []
          },
          "execution_count": 9
        }
      ]
    },
    {
      "cell_type": "code",
      "metadata": {
        "id": "0GrtOgzQkoqj"
      },
      "source": [
        "import tensorflow\n",
        "from tensorflow.keras import Sequential\n",
        "from tensorflow.keras.layers import Dense,Flatten,Conv3D,MaxPool3D,Dropout\n",
        "from tensorflow.keras.losses import SparseCategoricalCrossentropy\n",
        "from tensorflow.keras.optimizers import Adam"
      ],
      "execution_count": null,
      "outputs": []
    },
    {
      "cell_type": "code",
      "metadata": {
        "id": "ElOK85jdlVZe"
      },
      "source": [
        "model=Sequential()"
      ],
      "execution_count": null,
      "outputs": []
    },
    {
      "cell_type": "code",
      "metadata": {
        "id": "iztcMgxjlafK"
      },
      "source": [
        "model.add(Conv3D(filters=20,kernel_size=(3,3,3),strides=1,padding='same',input_shape=(200,200,3,1),activation='relu'))\n",
        "model.add(MaxPool3D(pool_size=(2,2,2),padding='same'))\n",
        "model.add(Conv3D(filters=35,kernel_size=(3,3,3),strides=1,padding='same',activation='relu'))\n",
        "model.add(MaxPool3D(pool_size=(2,2,2),strides=2,padding='same'))\n",
        "model.add(Conv3D(filters=40,kernel_size=(3,3,2),padding='same',activation='relu'))\n",
        "model.add(MaxPool3D(pool_size=(1,1,1)))\n",
        "model.add(Dropout(.05))\n",
        "\n"
      ],
      "execution_count": null,
      "outputs": []
    },
    {
      "cell_type": "code",
      "metadata": {
        "id": "W_tShjyynWlN"
      },
      "source": [
        "model.add(Flatten())\n",
        "model.add(Dense(200,activation='relu'))\n",
        "model.add(Dense(100,activation='relu'))\n",
        "model.add(Dense(5,activation='softmax'))"
      ],
      "execution_count": null,
      "outputs": []
    },
    {
      "cell_type": "code",
      "metadata": {
        "colab": {
          "base_uri": "https://localhost:8080/"
        },
        "id": "GFMYedqlqZno",
        "outputId": "a68eede9-8107-4cfd-c65f-bef4301b08aa"
      },
      "source": [
        "model.summary()"
      ],
      "execution_count": null,
      "outputs": [
        {
          "output_type": "stream",
          "text": [
            "Model: \"sequential\"\n",
            "_________________________________________________________________\n",
            "Layer (type)                 Output Shape              Param #   \n",
            "=================================================================\n",
            "conv3d (Conv3D)              (None, 200, 200, 3, 20)   560       \n",
            "_________________________________________________________________\n",
            "max_pooling3d (MaxPooling3D) (None, 100, 100, 2, 20)   0         \n",
            "_________________________________________________________________\n",
            "conv3d_1 (Conv3D)            (None, 100, 100, 2, 35)   18935     \n",
            "_________________________________________________________________\n",
            "max_pooling3d_1 (MaxPooling3 (None, 50, 50, 1, 35)     0         \n",
            "_________________________________________________________________\n",
            "conv3d_2 (Conv3D)            (None, 50, 50, 1, 40)     25240     \n",
            "_________________________________________________________________\n",
            "max_pooling3d_2 (MaxPooling3 (None, 50, 50, 1, 40)     0         \n",
            "_________________________________________________________________\n",
            "dropout (Dropout)            (None, 50, 50, 1, 40)     0         \n",
            "_________________________________________________________________\n",
            "flatten (Flatten)            (None, 100000)            0         \n",
            "_________________________________________________________________\n",
            "dense (Dense)                (None, 200)               20000200  \n",
            "_________________________________________________________________\n",
            "dense_1 (Dense)              (None, 100)               20100     \n",
            "_________________________________________________________________\n",
            "dense_2 (Dense)              (None, 5)                 505       \n",
            "=================================================================\n",
            "Total params: 20,065,540\n",
            "Trainable params: 20,065,540\n",
            "Non-trainable params: 0\n",
            "_________________________________________________________________\n"
          ],
          "name": "stdout"
        }
      ]
    },
    {
      "cell_type": "code",
      "metadata": {
        "id": "ylMT9CYmqfYv"
      },
      "source": [
        "model.compile(optimizer=Adam(),loss=SparseCategoricalCrossentropy(),metrics=['accuracy'])"
      ],
      "execution_count": null,
      "outputs": []
    },
    {
      "cell_type": "code",
      "metadata": {
        "id": "FReJ8_e1rLHL"
      },
      "source": [
        "xtrain=xtrain.reshape(418, 200, 200, 3,1)\n",
        "xtest=xtest.reshape(163, 200, 200, 3,1)"
      ],
      "execution_count": null,
      "outputs": []
    },
    {
      "cell_type": "code",
      "metadata": {
        "colab": {
          "base_uri": "https://localhost:8080/"
        },
        "id": "T64c-Rs-quxb",
        "outputId": "9dee660b-38d7-4bf0-9b90-c720b8eebfab"
      },
      "source": [
        "face_hist=model.fit(xtrain,ytrain,batch_size=170,epochs=10,validation_data=(xtest,ytest),verbose=1)"
      ],
      "execution_count": null,
      "outputs": [
        {
          "output_type": "stream",
          "text": [
            "Epoch 1/10\n",
            "3/3 [==============================] - 43s 3s/step - loss: 1.9501 - accuracy: 0.2340 - val_loss: 1.4592 - val_accuracy: 0.4356\n",
            "Epoch 2/10\n",
            "3/3 [==============================] - 2s 627ms/step - loss: 1.3965 - accuracy: 0.6900 - val_loss: 1.0947 - val_accuracy: 0.9755\n",
            "Epoch 3/10\n",
            "3/3 [==============================] - 2s 627ms/step - loss: 0.9242 - accuracy: 0.9775 - val_loss: 0.2965 - val_accuracy: 0.9755\n",
            "Epoch 4/10\n",
            "3/3 [==============================] - 2s 638ms/step - loss: 0.1935 - accuracy: 1.0000 - val_loss: 0.0237 - val_accuracy: 1.0000\n",
            "Epoch 5/10\n",
            "3/3 [==============================] - 2s 634ms/step - loss: 0.0161 - accuracy: 1.0000 - val_loss: 0.0038 - val_accuracy: 1.0000\n",
            "Epoch 6/10\n",
            "3/3 [==============================] - 2s 640ms/step - loss: 0.0011 - accuracy: 1.0000 - val_loss: 4.1992e-04 - val_accuracy: 1.0000\n",
            "Epoch 7/10\n",
            "3/3 [==============================] - 2s 641ms/step - loss: 4.9001e-04 - accuracy: 1.0000 - val_loss: 0.0017 - val_accuracy: 1.0000\n",
            "Epoch 8/10\n",
            "3/3 [==============================] - 2s 647ms/step - loss: 1.8465e-04 - accuracy: 1.0000 - val_loss: 0.0034 - val_accuracy: 1.0000\n",
            "Epoch 9/10\n",
            "3/3 [==============================] - 2s 655ms/step - loss: 1.4879e-04 - accuracy: 1.0000 - val_loss: 3.3071e-04 - val_accuracy: 1.0000\n",
            "Epoch 10/10\n",
            "3/3 [==============================] - 2s 634ms/step - loss: 4.4194e-06 - accuracy: 1.0000 - val_loss: 2.4671e-05 - val_accuracy: 1.0000\n"
          ],
          "name": "stdout"
        }
      ]
    },
    {
      "cell_type": "code",
      "metadata": {
        "id": "mvvvNjbErCWn"
      },
      "source": [
        "History=face_hist.history"
      ],
      "execution_count": null,
      "outputs": []
    },
    {
      "cell_type": "code",
      "metadata": {
        "colab": {
          "base_uri": "https://localhost:8080/",
          "height": 312
        },
        "id": "FpyLwwopyBGz",
        "outputId": "140bc931-7d26-4412-bf25-0a46c2a33a00"
      },
      "source": [
        "plt. plot(History['accuracy'],label='Accuracy')\n",
        "plt.plot(History['val_accuracy'],label='Validation accuracy')\n",
        "plt.xlabel('Epochs')\n",
        "plt.ylabel('validation data')\n",
        "plt.title('Accuracy learning curve')\n",
        "plt.legend()"
      ],
      "execution_count": null,
      "outputs": [
        {
          "output_type": "execute_result",
          "data": {
            "text/plain": [
              "<matplotlib.legend.Legend at 0x7f536c093810>"
            ]
          },
          "metadata": {
            "tags": []
          },
          "execution_count": 19
        },
        {
          "output_type": "display_data",
          "data": {
            "image/png": "[encoded data removed]",
            "text/plain": [
              "<Figure size 432x288 with 1 Axes>"
            ]
          },
          "metadata": {
            "tags": [],
            "needs_background": "light"
          }
        }
      ]
    },
    {
      "cell_type": "code",
      "metadata": {
        "colab": {
          "base_uri": "https://localhost:8080/",
          "height": 312
        },
        "id": "Zmz9Rf5qy-Dp",
        "outputId": "62d66f43-032e-4fcd-a255-9d30d182f996"
      },
      "source": [
        "plt. plot(History['loss'],label='Loss')\n",
        "plt.plot(History['val_loss'],label='Validation loss')\n",
        "plt.xlabel('Epochs')\n",
        "plt.ylabel('validation data')\n",
        "plt.title('loss learning curve')\n",
        "plt.legend()"
      ],
      "execution_count": null,
      "outputs": [
        {
          "output_type": "execute_result",
          "data": {
            "text/plain": [
              "<matplotlib.legend.Legend at 0x7f536c0b6350>"
            ]
          },
          "metadata": {
            "tags": []
          },
          "execution_count": 20
        },
        {
          "output_type": "display_data",
          "data": {
            "image/png": "[encoded data removed]",
            "text/plain": [
              "<Figure size 432x288 with 1 Axes>"
            ]
          },
          "metadata": {
            "tags": [],
            "needs_background": "light"
          }
        }
      ]
    },
    {
      "cell_type": "code",
      "metadata": {
        "id": "0cbEI18k-bhN"
      },
      "source": [
        "from sklearn.metrics import confusion_matrix\n",
        "from mlxtend.plotting import  plot_confusion_matrix\n"
      ],
      "execution_count": null,
      "outputs": []
    },
    {
      "cell_type": "code",
      "metadata": {
        "colab": {
          "base_uri": "https://localhost:8080/"
        },
        "id": "lavj-lc2_3Ok",
        "outputId": "39d712dc-97a1-4f25-8b59-22ea8795a84a"
      },
      "source": [
        "y_pred=model.predict_classes(xtrain)"
      ],
      "execution_count": null,
      "outputs": [
        {
          "output_type": "stream",
          "text": [
            "/usr/local/lib/python3.7/dist-packages/tensorflow/python/keras/engine/sequential.py:450: UserWarning: `model.predict_classes()` is deprecated and will be removed after 2021-01-01. Please use instead:* `np.argmax(model.predict(x), axis=-1)`,   if your model does multi-class classification   (e.g. if it uses a `softmax` last-layer activation).* `(model.predict(x) > 0.5).astype(\"int32\")`,   if your model does binary classification   (e.g. if it uses a `sigmoid` last-layer activation).\n",
            "  warnings.warn('`model.predict_classes()` is deprecated and '\n"
          ],
          "name": "stderr"
        }
      ]
    },
    {
      "cell_type": "code",
      "metadata": {
        "colab": {
          "base_uri": "https://localhost:8080/"
        },
        "id": "V1k52SDS_4XA",
        "outputId": "782c8ea2-daca-478c-ebfe-0e8c76213ae8"
      },
      "source": [
        "cf=confusion_matrix(ytrain,y_pred)\n",
        "cf"
      ],
      "execution_count": null,
      "outputs": [
        {
          "output_type": "execute_result",
          "data": {
            "text/plain": [
              "array([[ 71,   0,   0,   0,   0],\n",
              "       [  0, 100,   0,   0,   0],\n",
              "       [  0,   0,  75,   0,   0],\n",
              "       [  0,   0,   0,  87,   0],\n",
              "       [  0,   0,   0,   0,  85]])"
            ]
          },
          "metadata": {
            "tags": []
          },
          "execution_count": 23
        }
      ]
    },
    {
      "cell_type": "code",
      "metadata": {
        "colab": {
          "base_uri": "https://localhost:8080/",
          "height": 532
        },
        "id": "qqHT9LVUAQpX",
        "outputId": "84cff2a8-1975-414b-c731-68de4f935603"
      },
      "source": [
        "plot_confusion_matrix(cf,figsize=(8,8))"
      ],
      "execution_count": null,
      "outputs": [
        {
          "output_type": "execute_result",
          "data": {
            "text/plain": [
              "(<Figure size 576x576 with 1 Axes>,\n",
              " <matplotlib.axes._subplots.AxesSubplot at 0x7f53b0196210>)"
            ]
          },
          "metadata": {
            "tags": []
          },
          "execution_count": 24
        },
        {
          "output_type": "display_data",
          "data": {
            "image/png": "[encoded data removed]",
            "text/plain": [
              "<Figure size 576x576 with 1 Axes>"
            ]
          },
          "metadata": {
            "tags": [],
            "needs_background": "light"
          }
        }
      ]
    },
    {
      "cell_type": "code",
      "metadata": {
        "id": "4iv1cJ_tzaiP"
      },
      "source": [
        "# saving the model"
      ],
      "execution_count": null,
      "outputs": []
    },
    {
      "cell_type": "code",
      "metadata": {
        "id": "BjklBcZszd6-"
      },
      "source": [
        "# model.save('/content/drive/MyDrive/Colab Notebooks/CNN/colab_assignment/mod.h5')"
      ],
      "execution_count": null,
      "outputs": []
    },
    {
      "cell_type": "markdown",
      "metadata": {
        "id": "JvD66h5979Db"
      },
      "source": []
    },
    {
      "cell_type": "code",
      "metadata": {
        "colab": {
          "base_uri": "https://localhost:8080/"
        },
        "id": "AawO3MHZRSot",
        "outputId": "a23fb7fd-b93e-48a7-97f7-b404dcb41aef"
      },
      "source": [
        "img=cv2.imread('img54.jpg')\n",
        "img=cv2.resize(img,(200,200))\n",
        "img.shape"
      ],
      "execution_count": null,
      "outputs": [
        {
          "output_type": "execute_result",
          "data": {
            "text/plain": [
              "(200, 200, 3)"
            ]
          },
          "metadata": {
            "tags": []
          },
          "execution_count": 55
        }
      ]
    },
    {
      "cell_type": "code",
      "metadata": {
        "id": "kSSqFOXBRmFc"
      },
      "source": [
        "hcc=cv2.CascadeClassifier('haarcascade_frontalface_default.xml')"
      ],
      "execution_count": null,
      "outputs": []
    },
    {
      "cell_type": "code",
      "metadata": {
        "id": "7LtLf_u2RyVT"
      },
      "source": [
        "grey=cv2.cvtColor(img,cv2.COLOR_BGR2GRAY)"
      ],
      "execution_count": null,
      "outputs": []
    },
    {
      "cell_type": "code",
      "metadata": {
        "id": "bJ7M79GhSEog"
      },
      "source": [
        "res=hcc.detectMultiScale(grey)"
      ],
      "execution_count": null,
      "outputs": []
    },
    {
      "cell_type": "code",
      "metadata": {
        "id": "yBTypzkFSOXo"
      },
      "source": [
        "x,y,W,H=res[0]\n",
        "img=cv2.rectangle(img,(x,y),(x+W,y+H),(225,0,0),2)"
      ],
      "execution_count": null,
      "outputs": []
    },
    {
      "cell_type": "code",
      "metadata": {
        "colab": {
          "base_uri": "https://localhost:8080/"
        },
        "id": "AnGJEZhfSiRA",
        "outputId": "554e5c0f-cf4e-4148-ed84-2b5259ae21ec"
      },
      "source": [
        "img_n=np.array(img)\n",
        "img_n.shape\n"
      ],
      "execution_count": null,
      "outputs": [
        {
          "output_type": "execute_result",
          "data": {
            "text/plain": [
              "(200, 200, 3)"
            ]
          },
          "metadata": {
            "tags": []
          },
          "execution_count": 60
        }
      ]
    },
    {
      "cell_type": "code",
      "metadata": {
        "id": "rRPi9aPbS3fn"
      },
      "source": [
        "img_n=img_n.reshape(1,200,200,3,1)"
      ],
      "execution_count": null,
      "outputs": []
    },
    {
      "cell_type": "code",
      "metadata": {
        "colab": {
          "base_uri": "https://localhost:8080/"
        },
        "id": "sOVlWif7TpS4",
        "outputId": "2c5752b0-e79e-4ae5-82e8-ca4d3836e5ca"
      },
      "source": [
        "result=model.predict_classes(img_n)\n",
        "result"
      ],
      "execution_count": null,
      "outputs": [
        {
          "output_type": "stream",
          "text": [
            "/usr/local/lib/python3.7/dist-packages/tensorflow/python/keras/engine/sequential.py:450: UserWarning: `model.predict_classes()` is deprecated and will be removed after 2021-01-01. Please use instead:* `np.argmax(model.predict(x), axis=-1)`,   if your model does multi-class classification   (e.g. if it uses a `softmax` last-layer activation).* `(model.predict(x) > 0.5).astype(\"int32\")`,   if your model does binary classification   (e.g. if it uses a `sigmoid` last-layer activation).\n",
            "  warnings.warn('`model.predict_classes()` is deprecated and '\n"
          ],
          "name": "stderr"
        },
        {
          "output_type": "execute_result",
          "data": {
            "text/plain": [
              "array([1])"
            ]
          },
          "metadata": {
            "tags": []
          },
          "execution_count": 62
        }
      ]
    },
    {
      "cell_type": "code",
      "metadata": {
        "colab": {
          "base_uri": "https://localhost:8080/"
        },
        "id": "rRziWmSlWoSm",
        "outputId": "90117c3c-4c11-4e02-bb82-592901d02e33"
      },
      "source": [
        "lab.keys()"
      ],
      "execution_count": null,
      "outputs": [
        {
          "output_type": "execute_result",
          "data": {
            "text/plain": [
              "dict_keys(['adrash', 'athul', 'roshan', 'sarath', 'subin'])"
            ]
          },
          "metadata": {
            "tags": []
          },
          "execution_count": 63
        }
      ]
    },
    {
      "cell_type": "code",
      "metadata": {
        "colab": {
          "base_uri": "https://localhost:8080/",
          "height": 286
        },
        "id": "DmxYrUr-TwXA",
        "outputId": "e0f8bc0d-50b6-40b1-a238-ef0d716b7344"
      },
      "source": [
        "for i in lab:\n",
        "    if lab[i]==result:\n",
        "        font=cv2.FONT_HERSHEY_COMPLEX\n",
        "        color=(255,255,255)\n",
        "        cv2.putText(img,str(i),(5,20),font,1,color,2)\n",
        "plt.imshow(img)\n"
      ],
      "execution_count": null,
      "outputs": [
        {
          "output_type": "execute_result",
          "data": {
            "text/plain": [
              "<matplotlib.image.AxesImage at 0x7f50b620df50>"
            ]
          },
          "metadata": {
            "tags": []
          },
          "execution_count": 65
        },
        {
          "output_type": "display_data",
          "data": {
            "image/png": "[encoded data removed]",
            "text/plain": [
              "<Figure size 432x288 with 1 Axes>"
            ]
          },
          "metadata": {
            "tags": [],
            "needs_background": "light"
          }
        }
      ]
    },
    {
      "cell_type": "code",
      "metadata": {
        "id": "LEU3zjaVVIol"
      },
      "source": [],
      "execution_count": null,
      "outputs": []
    }
  ]
}